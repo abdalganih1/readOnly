{
  "cells": [
    {
      "cell_type": "markdown",
      "metadata": {
        "id": "view-in-github",
        "colab_type": "text"
      },
      "source": [
        "<a href=\"https://colab.research.google.com/github/abdalganih1/readOnly/blob/main/RADDet_Implementation_in_Colab.ipynb\" target=\"_parent\"><img src=\"https://colab.research.google.com/assets/colab-badge.svg\" alt=\"Open In Colab\"/></a>"
      ]
    },
    {
      "cell_type": "markdown",
      "metadata": {
        "id": "XzoAxuedcvAO"
      },
      "source": [
        "# تنفيذ مشروع RADDet على Google Colab\n",
        "\n",
        "هذا الدفتر يشرح خطوات تنفيذ مشروع RADDet بالكامل على بيئة Google Colab، بدءًا من تحميل المشروع والبيانات، وصولاً إلى تدريب النموذج وتقييمه."
      ]
    },
    {
      "cell_type": "markdown",
      "metadata": {
        "id": "I17pFNWJcvAS"
      },
      "source": [
        "### الخطوة الأولى: نسخ مستودع المشروع\n",
        "\n",
        "أولاً، نقوم بنسخ مستودع المشروع من GitHub والانتقال إلى مجلد المشروع."
      ]
    },
    {
      "cell_type": "code",
      "execution_count": 12,
      "metadata": {
        "id": "05YAgBpXcvAT",
        "outputId": "3e9a278a-4889-4b9a-d83f-e0949d85800f",
        "colab": {
          "base_uri": "https://localhost:8080/"
        }
      },
      "outputs": [
        {
          "output_type": "stream",
          "name": "stdout",
          "text": [
            "Cloning into 'RADDet'...\n",
            "remote: Enumerating objects: 315, done.\u001b[K\n",
            "remote: Counting objects: 100% (83/83), done.\u001b[K\n",
            "remote: Compressing objects: 100% (18/18), done.\u001b[K\n",
            "remote: Total 315 (delta 69), reused 70 (delta 65), pack-reused 232 (from 1)\u001b[K\n",
            "Receiving objects: 100% (315/315), 85.81 MiB | 18.81 MiB/s, done.\n",
            "Resolving deltas: 100% (158/158), done.\n",
            "Updating files: 100% (40/40), done.\n",
            "/content/RADDet/RADDet\n"
          ]
        }
      ],
      "source": [
        "!git clone https://github.com/ZhangAoCanada/RADDet.git\n",
        "%cd RADDet"
      ]
    },
    {
      "cell_type": "markdown",
      "metadata": {
        "id": "TTqECXxfcvAU"
      },
      "source": [
        "### الخطوة الثانية: تعديل وتثبيت المكتبات المطلوبة (مصحح)\n",
        "\n",
        "ملف `requirements.txt` الأصلي قديم. سنقوم بتعديله تلقائياً ليتوافق مع بيئة Colab الحديثة ثم نقوم بتثبيت المكتبات."
      ]
    },
    {
      "cell_type": "code",
      "execution_count": 18,
      "metadata": {
        "id": "n9c7Ho4kcvAU",
        "outputId": "5378d777-a1e7-4aa8-b7b6-0c09f9c854ee",
        "colab": {
          "base_uri": "https://localhost:8080/"
        }
      },
      "outputs": [
        {
          "output_type": "stream",
          "name": "stdout",
          "text": [
            "⏳ Modifying requirements.txt for full compatibility...\n",
            "✅ requirements.txt has been cleaned of version constraints.\n",
            "\n",
            "New content of requirements.txt:\n",
            "tensorflow\n",
            "opencv-python-headless\n",
            "numpy\n",
            "matplotlib\n",
            "scikit-learn\n",
            "tqdm\n",
            "\n",
            "⏳ Installing required libraries with compatible versions...\n",
            "\n",
            "✅ All libraries installed successfully!\n"
          ]
        }
      ],
      "source": [
        "# Cell 2: Fix requirements and install dependencies (Final Robust Version)\n",
        "print(\"⏳ Modifying requirements.txt for full compatibility...\")\n",
        "\n",
        "# This powerful sed command removes all version specifiers (e.g., '==2.3.0') from the file.\n",
        "# This allows pip to install the latest compatible versions of all libraries, avoiding conflicts.\n",
        "!sed -i -E 's/==[0-9.]+//' requirements.txt\n",
        "\n",
        "print(\"✅ requirements.txt has been cleaned of version constraints.\")\n",
        "print(\"\\nNew content of requirements.txt:\")\n",
        "!cat requirements.txt # Display the cleaned file for verification\n",
        "\n",
        "print(\"\\n⏳ Installing required libraries with compatible versions...\")\n",
        "!pip install -r requirements.txt -q\n",
        "print(\"\\n✅ All libraries installed successfully!\")"
      ]
    },
    {
      "cell_type": "markdown",
      "metadata": {
        "id": "jrr4_u9AcvAV"
      },
      "source": [
        "### الخطوة الثالثة: تحميل مجموعة البيانات (مصحح)\n",
        "\n",
        "سنقوم بتحميل البيانات من الرابط المحدث. هذا الكود سيقوم بحذف أي ملف تحميل تالف أو غير مكتمل لضمان تحميل سليم."
      ]
    },
    {
      "cell_type": "code",
      "execution_count": 14,
      "metadata": {
        "id": "FjbSvMwBcvAV",
        "outputId": "47ea2b44-0fdc-4dae-dd2f-96d71d794cdd",
        "colab": {
          "base_uri": "https://localhost:8080/"
        }
      },
      "outputs": [
        {
          "output_type": "stream",
          "name": "stdout",
          "text": [
            "Downloading the dataset... (This may take a few minutes, size is ~556MB)\n",
            "--2025-07-27 10:35:24--  https://data.qut.edu.au/dataset/12a828ad-4289-4c56-9743-403c51547af3/resource/634905f1-2544-40e3-b878-9b9a4282bd04/download/raddet-1t-128.zip\n",
            "Resolving data.qut.edu.au (data.qut.edu.au)... failed: Name or service not known.\n",
            "wget: unable to resolve host address ‘data.qut.edu.au’\n"
          ]
        }
      ],
      "source": [
        "import os\n",
        "\n",
        "zip_file_path = '../raddet-1t-128.zip'\n",
        "data_url = \"https://data.qut.edu.au/dataset/12a828ad-4289-4c56-9743-403c51547af3/resource/634905f1-2544-40e3-b878-9b9a4282bd04/download/raddet-1t-128.zip\"\n",
        "\n",
        "# Clean up any previously failed/empty download file to ensure a fresh download\n",
        "if os.path.exists(zip_file_path):\n",
        "    # If file is smaller than 1MB, it's likely corrupted. Delete it.\n",
        "    if os.path.getsize(zip_file_path) < 1024 * 1024:\n",
        "        print(f\"Found a small/corrupted file at {zip_file_path}. Deleting it to re-download.\")\n",
        "        os.remove(zip_file_path)\n",
        "\n",
        "if not os.path.exists(zip_file_path):\n",
        "    print(f\"Downloading the dataset... (This may take a few minutes, size is ~556MB)\")\n",
        "    # Use -c to continue download if it gets interrupted\n",
        "    !wget -c {data_url} -O {zip_file_path}\n",
        "else:\n",
        "    print(\"Dataset already downloaded and seems to be complete.\")"
      ]
    },
    {
      "cell_type": "markdown",
      "metadata": {
        "id": "UHFedBXncvAW"
      },
      "source": [
        "### الخطوة الرابعة: فك ضغط البيانات\n",
        "\n",
        "نقوم بفك ضغط ملف البيانات. سيتأكد الكود من وجود الملف قبل محاولة فك ضغطه."
      ]
    },
    {
      "cell_type": "code",
      "execution_count": 15,
      "metadata": {
        "id": "30qqfTGxcvAW",
        "outputId": "9252eab3-2f12-485d-8db1-6892ac868966",
        "colab": {
          "base_uri": "https://localhost:8080/"
        }
      },
      "outputs": [
        {
          "output_type": "stream",
          "name": "stdout",
          "text": [
            "Unzipping the data...\n",
            "[../raddet-1t-128.zip]\n",
            "  End-of-central-directory signature not found.  Either this file is not\n",
            "  a zipfile, or it constitutes one disk of a multi-part archive.  In the\n",
            "  latter case the central directory and zipfile comment will be found on\n",
            "  the last disk(s) of this archive.\n",
            "unzip:  cannot find zipfile directory in one of ../raddet-1t-128.zip or\n",
            "        ../raddet-1t-128.zip.zip, and cannot find ../raddet-1t-128.zip.ZIP, period.\n",
            "✅ Data unzipped successfully.\n"
          ]
        }
      ],
      "source": [
        "import os\n",
        "\n",
        "data_dir = 'RadDet_data/RadDet-1T-128'\n",
        "zip_file_path = '../raddet-1t-128.zip'\n",
        "\n",
        "# Only unzip if the target directory doesn't exist AND the zip file exists\n",
        "if not os.path.exists(data_dir) and os.path.exists(zip_file_path):\n",
        "    print(\"Unzipping the data...\")\n",
        "    os.makedirs('RadDet_data', exist_ok=True)\n",
        "    !unzip -q {zip_file_path} -d RadDet_data\n",
        "    print(\"✅ Data unzipped successfully.\")\n",
        "elif os.path.exists(data_dir):\n",
        "    print(\"Data directory already exists. Skipping unzip.\")\n",
        "else:\n",
        "    print(\"❌ Zip file not found. Please re-run the download step.\")"
      ]
    },
    {
      "cell_type": "markdown",
      "metadata": {
        "id": "dthfx0tFcvAW"
      },
      "source": [
        "### الخطوة الخامسة: استكشاف البيانات\n",
        "\n",
        "نعرض عينة من البيانات (خريطة Range-Doppler) للتأكد من أن كل شيء تم تحميله وفك ضغطه بشكل صحيح."
      ]
    },
    {
      "cell_type": "code",
      "execution_count": 17,
      "metadata": {
        "id": "FbtvyiDbcvAX",
        "outputId": "9d66f05f-62af-45a9-a7f7-3f2314584c2c",
        "colab": {
          "base_uri": "https://localhost:8080/"
        }
      },
      "outputs": [
        {
          "output_type": "stream",
          "name": "stdout",
          "text": [
            "❌ File not found at RadDet_data/RadDet-1T-128/train/seq_000/r_d.npy. Please check the download and unzip steps.\n"
          ]
        }
      ],
      "source": [
        "import numpy as np\n",
        "import matplotlib.pyplot as plt\n",
        "import os\n",
        "\n",
        "# Path to a sample radar data file\n",
        "file_path = 'RadDet_data/RadDet-1T-128/train/seq_000/r_d.npy'\n",
        "\n",
        "if os.path.exists(file_path):\n",
        "    print(\"Displaying a sample Range-Doppler Map...\")\n",
        "    rd_data = np.load(file_path)\n",
        "    plt.figure(figsize=(8, 6))\n",
        "    plt.imshow(rd_data, cmap='hot', interpolation='nearest')\n",
        "    plt.title(\"Range-Doppler Map\")\n",
        "    plt.colorbar(label=\"Intensity\")\n",
        "    plt.xlabel(\"Doppler\")\n",
        "    plt.ylabel(\"Range\")\n",
        "    plt.show()\n",
        "else:\n",
        "    print(f\"❌ File not found at {file_path}. Please check the download and unzip steps.\")"
      ]
    },
    {
      "cell_type": "markdown",
      "metadata": {
        "id": "Hq4TwvLdcvAX"
      },
      "source": [
        "### الخطوة السادسة: تعديل الإعدادات للتدريب (مصحح)\n",
        "\n",
        "نقوم بتعديل ملف الإعدادات `RadDet_config.json` لتقليل وقت التدريب (epochs = 5) لأغراض العرض التوضيحي، ونتأكد من حفظ التغييرات."
      ]
    },
    {
      "cell_type": "code",
      "execution_count": null,
      "metadata": {
        "id": "Rtxad_PGcvAX"
      },
      "outputs": [],
      "source": [
        "import json\n",
        "\n",
        "config_path = 'RadDet_config.json'\n",
        "\n",
        "print(f\"Reading and updating config file: {config_path}\")\n",
        "with open(config_path, 'r') as f:\n",
        "    config = json.load(f)\n",
        "\n",
        "original_epochs = config['epochs']\n",
        "# Modify the number of epochs for a quicker training demonstration\n",
        "config['epochs'] = 5\n",
        "print(f\"Changing 'epochs' from {original_epochs} to {config['epochs']} for a quick demo.\")\n",
        "\n",
        "# IMPORTANT: Write the changes back to the file\n",
        "with open(config_path, 'w') as f:\n",
        "    json.dump(config, f, indent=4)\n",
        "print(\"✅ Configuration saved successfully.\")"
      ]
    },
    {
      "cell_type": "markdown",
      "metadata": {
        "id": "qMkq4M4dcvAY"
      },
      "source": [
        "### الخطوة السابعة: تدريب النموذج\n",
        "\n",
        "الآن كل شيء جاهز. نبدأ عملية تدريب النموذج. ستعمل هذه الخلية الآن لـ 5 epochs فقط."
      ]
    },
    {
      "cell_type": "code",
      "execution_count": null,
      "metadata": {
        "id": "0NpeVo6NcvAY"
      },
      "outputs": [],
      "source": [
        "!python train.py --config_path RadDet_config.json"
      ]
    },
    {
      "cell_type": "markdown",
      "metadata": {
        "id": "wIE1ORLXcvAY"
      },
      "source": [
        "### الخطوة الثامنة: تقييم النموذج\n",
        "\n",
        "بعد اكتمال التدريب، نقوم بتقييم أداء النموذج على مجموعة بيانات الاختبار."
      ]
    },
    {
      "cell_type": "code",
      "execution_count": null,
      "metadata": {
        "id": "ZN-uT94JcvAY"
      },
      "outputs": [],
      "source": [
        "!python eval.py --config_path RadDet_config.json"
      ]
    }
  ],
  "metadata": {
    "colab": {
      "name": "RADDet_Final_Working_Version.ipynb",
      "provenance": [],
      "include_colab_link": true
    },
    "kernelspec": {
      "display_name": "Python 3",
      "name": "python3"
    },
    "language_info": {
      "name": "python"
    }
  },
  "nbformat": 4,
  "nbformat_minor": 0
}