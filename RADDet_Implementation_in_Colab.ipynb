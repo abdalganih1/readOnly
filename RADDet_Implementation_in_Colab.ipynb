{
 "cells": [
  {
   "cell_type": "markdown",
   "metadata": {},
   "source": [
    "# تنفيذ مشروع RADDet على Google Colab\n",
    "\n",
    "هذا الدفتر يشرح خطوات تنفيذ مشروع RADDet بالكامل على بيئة Google Colab، بدءًا من تحميل المشروع والبيانات، وصولاً إلى تدريب النموذج وتقييمه."
   ]
  },
  {
   "cell_type": "markdown",
   "metadata": {},
   "source": [
    "### الخطوة الأولى: نسخ مستودع المشروع\n",
    "\n",
    "أولاً، نقوم بنسخ مستودع المشروع من GitHub والانتقال إلى مجلد المشروع."
   ]
  },
  {
   "cell_type": "code",
   "execution_count": null,
   "metadata": {},
   "outputs": [],
   "source": [
    "!git clone https://github.com/ZhangAoCanada/RADDet.git\n",
    "%cd RADDet"
   ]
  },
  {
   "cell_type": "markdown",
   "metadata": {},
   "source": [
    "### الخطوة الثانية: تعديل وتثبيت المكتبات المطلوبة (مصحح)\n",
    "\n",
    "ملف `requirements.txt` الأصلي قديم. سنقوم بتعديله تلقائياً ليتوافق مع بيئة Colab الحديثة ثم نقوم بتثبيت المكتبات."
   ]
  },
  {
   "cell_type": "code",
   "execution_count": null,
   "metadata": {},
   "outputs": [],
   "source": [
    "print(\"⏳ Modifying requirements.txt for compatibility...\")\n",
    "\n",
    "# Replace specific old versions with general, compatible ones\n",
    "!sed -i 's/tensorflow==2.3.0/tensorflow/' requirements.txt\n",
    "!sed -i 's/opencv-python==4.1.2.30/opencv-python-headless/' requirements.txt\n",
    "# Note: We use opencv-python-headless as it's lighter and avoids potential display-related issues in Colab\n",
    "\n",
    "print(\"✅ requirements.txt has been updated.\")\n",
    "\n",
    "print(\"\\n⏳ Installing required libraries...\")\n",
    "!pip install -r requirements.txt -q\n",
    "print(\"✅ All libraries installed successfully!\")"
   ]
  },
  {
   "cell_type": "markdown",
   "metadata": {},
   "source": [
    "### الخطوة الثالثة: تحميل مجموعة البيانات (مصحح)\n",
    "\n",
    "سنقوم بتحميل البيانات من الرابط المحدث. هذا الكود سيقوم بحذف أي ملف تحميل تالف أو غير مكتمل لضمان تحميل سليم."
   ]
  },
  {
   "cell_type": "code",
   "execution_count": null,
   "metadata": {},
   "outputs": [],
   "source": [
    "import os\n",
    "\n",
    "zip_file_path = '../raddet-1t-128.zip'\n",
    "data_url = \"https://data.qut.edu.au/dataset/12a828ad-4289-4c56-9743-403c51547af3/resource/634905f1-2544-40e3-b878-9b9a4282bd04/download/raddet-1t-128.zip\"\n",
    "\n",
    "# Clean up any previously failed/empty download file to ensure a fresh download\n",
    "if os.path.exists(zip_file_path):\n",
    "    # If file is smaller than 1MB, it's likely corrupted. Delete it.\n",
    "    if os.path.getsize(zip_file_path) < 1024 * 1024:\n",
    "        print(f\"Found a small/corrupted file at {zip_file_path}. Deleting it to re-download.\")\n",
    "        os.remove(zip_file_path)\n",
    "\n",
    "if not os.path.exists(zip_file_path):\n",
    "    print(f\"Downloading the dataset... (This may take a few minutes, size is ~556MB)\")\n",
    "    # Use -c to continue download if it gets interrupted\n",
    "    !wget -c {data_url} -O {zip_file_path}\n",
    "else:\n",
    "    print(\"Dataset already downloaded and seems to be complete.\")"
   ]
  },
  {
   "cell_type": "markdown",
   "metadata": {},
   "source": [
    "### الخطوة الرابعة: فك ضغط البيانات\n",
    "\n",
    "نقوم بفك ضغط ملف البيانات. سيتأكد الكود من وجود الملف قبل محاولة فك ضغطه."
   ]
  },
  {
   "cell_type": "code",
   "execution_count": null,
   "metadata": {},
   "outputs": [],
   "source": [
    "import os\n",
    "\n",
    "data_dir = 'RadDet_data/RadDet-1T-128'\n",
    "zip_file_path = '../raddet-1t-128.zip'\n",
    "\n",
    "# Only unzip if the target directory doesn't exist AND the zip file exists\n",
    "if not os.path.exists(data_dir) and os.path.exists(zip_file_path):\n",
    "    print(\"Unzipping the data...\")\n",
    "    os.makedirs('RadDet_data', exist_ok=True)\n",
    "    !unzip -q {zip_file_path} -d RadDet_data\n",
    "    print(\"✅ Data unzipped successfully.\")\n",
    "elif os.path.exists(data_dir):\n",
    "    print(\"Data directory already exists. Skipping unzip.\")\n",
    "else:\n",
    "    print(\"❌ Zip file not found. Please re-run the download step.\")"
   ]
  },
  {
   "cell_type": "markdown",
   "metadata": {},
   "source": [
    "### الخطوة الخامسة: استكشاف البيانات\n",
    "\n",
    "نعرض عينة من البيانات (خريطة Range-Doppler) للتأكد من أن كل شيء تم تحميله وفك ضغطه بشكل صحيح."
   ]
  },
  {
   "cell_type": "code",
   "execution_count": null,
   "metadata": {},
   "outputs": [],
   "source": [
    "import numpy as np\n",
    "import matplotlib.pyplot as plt\n",
    "import os\n",
    "\n",
    "# Path to a sample radar data file\n",
    "file_path = 'RadDet_data/RadDet-1T-128/train/seq_000/r_d.npy'\n",
    "\n",
    "if os.path.exists(file_path):\n",
    "    print(\"Displaying a sample Range-Doppler Map...\")\n",
    "    rd_data = np.load(file_path)\n",
    "    plt.figure(figsize=(8, 6))\n",
    "    plt.imshow(rd_data, cmap='hot', interpolation='nearest')\n",
    "    plt.title(\"Range-Doppler Map\")\n",
    "    plt.colorbar(label=\"Intensity\")\n",
    "    plt.xlabel(\"Doppler\")\n",
    "    plt.ylabel(\"Range\")\n",
    "    plt.show()\n",
    "else:\n",
    "    print(f\"❌ File not found at {file_path}. Please check the download and unzip steps.\")"
   ]
  },
  {
   "cell_type": "markdown",
   "metadata": {},
   "source": [
    "### الخطوة السادسة: تعديل الإعدادات للتدريب (مصحح)\n",
    "\n",
    "نقوم بتعديل ملف الإعدادات `RadDet_config.json` لتقليل وقت التدريب (epochs = 5) لأغراض العرض التوضيحي، ونتأكد من حفظ التغييرات."
   ]
  },
  {
   "cell_type": "code",
   "execution_count": null,
   "metadata": {},
   "outputs": [],
   "source": [
    "import json\n",
    "\n",
    "config_path = 'RadDet_config.json'\n",
    "\n",
    "print(f\"Reading and updating config file: {config_path}\")\n",
    "with open(config_path, 'r') as f:\n",
    "    config = json.load(f)\n",
    "\n",
    "original_epochs = config['epochs']\n",
    "# Modify the number of epochs for a quicker training demonstration\n",
    "config['epochs'] = 5\n",
    "print(f\"Changing 'epochs' from {original_epochs} to {config['epochs']} for a quick demo.\")\n",
    "\n",
    "# IMPORTANT: Write the changes back to the file\n",
    "with open(config_path, 'w') as f:\n",
    "    json.dump(config, f, indent=4)\n",
    "print(\"✅ Configuration saved successfully.\")"
   ]
  },
  {
   "cell_type": "markdown",
   "metadata": {},
   "source": [
    "### الخطوة السابعة: تدريب النموذج\n",
    "\n",
    "الآن كل شيء جاهز. نبدأ عملية تدريب النموذج. ستعمل هذه الخلية الآن لـ 5 epochs فقط."
   ]
  },
  {
   "cell_type": "code",
   "execution_count": null,
   "metadata": {},
   "outputs": [],
   "source": [
    "!python train.py --config_path RadDet_config.json"
   ]
  },
  {
   "cell_type": "markdown",
   "metadata": {},
   "source": [
    "### الخطوة الثامنة: تقييم النموذج\n",
    "\n",
    "بعد اكتمال التدريب، نقوم بتقييم أداء النموذج على مجموعة بيانات الاختبار."
   ]
  },
  {
   "cell_type": "code",
   "execution_count": null,
   "metadata": {},
   "outputs": [],
   "source": [
    "!python eval.py --config_path RadDet_config.json"
   ]
  }
 ],
 "metadata": {
  "colab": {
   "name": "RADDet_Final_Working_Version.ipynb",
   "provenance": []
  },
  "kernelspec": {
   "display_name": "Python 3",
   "name": "python3"
  },
  "language_info": {
   "name": "python"
  }
 },
 "nbformat": 4,
 "nbformat_minor": 0
}
