{
 "cells": [
  {
   "cell_type": "markdown",
   "metadata": {},
   "source": [
    "# \u062a\u0646\u0641\u064a\u0630 \u0645\u0634\u0631\u0648\u0639 RADDet \u0639\u0644\u0649 Google Colab\n",
    "\n",
    "\u0647\u0630\u0627 \u0627\u0644\u062f\u0641\u062a\u0631 \u064a\u0634\u0631\u062d \u062e\u0637\u0648\u0627\u062a \u062a\u0646\u0641\u064a\u0630 \u0645\u0634\u0631\u0648\u0639 RADDet \u0628\u0627\u0644\u0643\u0627\u0645\u0644 \u0639\u0644\u0649 \u0628\u064a\u0626\u0629 Google Colab\u060c \u0628\u062f\u0621\u064b\u0627 \u0645\u0646 \u062a\u062d\u0645\u064a\u0644 \u0627\u0644\u0645\u0634\u0631\u0648\u0639 \u0648\u0627\u0644\u0628\u064a\u0627\u0646\u0627\u062a\u060c \u0648\u0635\u0648\u0644\u0627\u064b \u0625\u0644\u0649 \u062a\u062f\u0631\u064a\u0628 \u0627\u0644\u0646\u0645\u0648\u0630\u062c \u0648\u062a\u0642\u064a\u064a\u0645\u0647."
   ]
  },
  {
   "cell_type": "markdown",
   "metadata": {},
   "source": [
    "### \u0627\u0644\u062e\u0637\u0648\u0629 \u0627\u0644\u0623\u0648\u0644\u0649: \u0646\u0633\u062e \u0645\u0633\u062a\u0648\u062f\u0639 \u0627\u0644\u0645\u0634\u0631\u0648\u0639\n",
    "\n",
    "\u0623\u0648\u0644\u0627\u064b\u060c \u0646\u0642\u0648\u0645 \u0628\u0646\u0633\u062e \u0645\u0633\u062a\u0648\u062f\u0639 \u0627\u0644\u0645\u0634\u0631\u0648\u0639 \u0645\u0646 GitHub \u0648\u0627\u0644\u0627\u0646\u062a\u0642\u0627\u0644 \u0625\u0644\u0649 \u0645\u062c\u0644\u062f \u0627\u0644\u0645\u0634\u0631\u0648\u0639."
   ]
  },
  {
   "cell_type": "code",
   "execution_count": null,
   "metadata": {},
   "outputs": [],
   "source": [
    "!git clone https://github.com/ZhangAoCanada/RADDet.git\n",
    "%cd RADDet"
   ]
  },
  {
   "cell_type": "markdown",
   "metadata": {},
   "source": [
    "### \u0627\u0644\u062e\u0637\u0648\u0629 \u0627\u0644\u062b\u0627\u0646\u064a\u0629: \u062a\u062b\u0628\u064a\u062a \u0627\u0644\u0645\u0643\u062a\u0628\u0627\u062a \u0627\u0644\u0645\u0637\u0644\u0648\u0628\u0629\n",
    "\n",
    "\u062b\u0627\u0646\u064a\u0627\u064b\u060c \u0646\u0642\u0648\u0645 \u0628\u062a\u062b\u0628\u064a\u062a \u0627\u0644\u0645\u0643\u062a\u0628\u0627\u062a \u0627\u0644\u0645\u0637\u0644\u0648\u0628\u0629 \u0644\u0644\u0645\u0634\u0631\u0648\u0639 \u0643\u0645\u0627 \u0647\u0648 \u0645\u062d\u062f\u062f \u0641\u064a \u0645\u0644\u0641 `requirements.txt`."
   ]
  },
  {
   "cell_type": "code",
   "execution_count": null,
   "metadata": {},
   "outputs": [],
   "source": [
    "!pip install -r requirements.txt"
   ]
  },
  {
   "cell_type": "markdown",
   "metadata": {},
   "source": [
    "### \u0627\u0644\u062e\u0637\u0648\u0629 \u0627\u0644\u062b\u0627\u0644\u062b\u0629: \u062a\u062d\u0645\u064a\u0644 \u0645\u062c\u0645\u0648\u0639\u0629 \u0627\u0644\u0628\u064a\u0627\u0646\u0627\u062a\n",
    "\n",
    "\u062b\u0627\u0644\u062b\u0627\u064b\u060c \u0646\u0642\u0648\u0645 \u0628\u062a\u062d\u0645\u064a\u0644 \u0645\u062c\u0645\u0648\u0639\u0629 \u0627\u0644\u0628\u064a\u0627\u0646\u0627\u062a. \u0627\u0644\u0631\u0627\u0628\u0637 \u0627\u0644\u0623\u0635\u0644\u064a \u0641\u064a \u0627\u0644\u0645\u0633\u062a\u0648\u062f\u0639 \u0644\u0645 \u064a\u0639\u062f \u064a\u0639\u0645\u0644\u060c \u0644\u0630\u0644\u0643 \u0633\u0646\u0633\u062a\u062e\u062f\u0645 \u0627\u0644\u0631\u0627\u0628\u0637 \u0627\u0644\u0645\u062d\u062f\u062b \u0645\u0646 QUT Research Data Repository. \u062d\u062c\u0645 \u0627\u0644\u0628\u064a\u0627\u0646\u0627\u062a \u062d\u0648\u0627\u0644\u064a 556 \u0645\u064a\u062c\u0627\u0628\u0627\u064a\u062a."
   ]
  },
  {
   "cell_type": "code",
   "execution_count": null,
   "metadata": {},
   "outputs": [],
   "source": [
    "import os\n",
    "\n",
    "# The official dataset is hosted on the QUT Research Data Repository.\n",
    "# We will download the `RadDet-1T-128` version (~556 MB).\n",
    "\n",
    "# We are inside /content/RADDet, so we save the zip file in the parent directory /content\n",
    "zip_file_path = '../raddet-1t-128.zip'\n",
    "\n",
    "if not os.path.exists(zip_file_path):\n",
    "    print(f\"Downloading the dataset...\")\n",
    "    !wget https://data.qut.edu.au/dataset/12a828ad-4289-4c56-9743-403c51547af3/resource/634905f1-2544-40e3-b878-9b9a4282bd04/download/raddet-1t-128.zip -O {zip_file_path}\n",
    "else:\n",
    "    print(\"Dataset already downloaded.\")"
   ]
  },
  {
   "cell_type": "markdown",
   "metadata": {},
   "source": [
    "### \u0627\u0644\u062e\u0637\u0648\u0629 \u0627\u0644\u0631\u0627\u0628\u0639\u0629: \u0641\u0643 \u0636\u063a\u0637 \u0627\u0644\u0628\u064a\u0627\u0646\u0627\u062a\n",
    "\n",
    "\u0631\u0627\u0628\u0639\u0627\u064b\u060c \u0646\u0642\u0648\u0645 \u0628\u0641\u0643 \u0636\u063a\u0637 \u0645\u0644\u0641 \u0627\u0644\u0628\u064a\u0627\u0646\u0627\u062a \u0627\u0644\u0630\u064a \u062a\u0645 \u062a\u062d\u0645\u064a\u0644\u0647. \u064a\u062a\u0648\u0642\u0639 \u0627\u0644\u0645\u0634\u0631\u0648\u0639 \u0623\u0646 \u062a\u0643\u0648\u0646 \u0627\u0644\u0628\u064a\u0627\u0646\u0627\u062a \u0645\u0648\u062c\u0648\u062f\u0629 \u0641\u064a \u0645\u062c\u0644\u062f `RadDet_data` \u062f\u0627\u062e\u0644 \u0645\u062c\u0644\u062f \u0627\u0644\u0645\u0634\u0631\u0648\u0639."
   ]
  },
  {
   "cell_type": "code",
   "execution_count": null,
   "metadata": {},
   "outputs": [],
   "source": [
    "import os\n",
    "\n",
    "data_dir = 'RadDet_data/RadDet-1T-128'\n",
    "zip_file_path = '../raddet-1t-128.zip'\n",
    "\n",
    "if not os.path.exists(data_dir):\n",
    "    print(\"Unzipping the data...\")\n",
    "    # The zip file is in the parent directory /content\n",
    "    !unzip -q {zip_file_path} -d RadDet_data\n",
    "else:\n",
    "    print(\"Data already unzipped.\")"
   ]
  },
  {
   "cell_type": "markdown",
   "metadata": {},
   "source": [
    "### \u0627\u0644\u062e\u0637\u0648\u0629 \u0627\u0644\u062e\u0627\u0645\u0633\u0629: \u0627\u0633\u062a\u0643\u0634\u0627\u0641 \u0627\u0644\u0628\u064a\u0627\u0646\u0627\u062a\n",
    "\n",
    "\u062e\u0627\u0645\u0633\u0627\u064b\u060c \u0646\u0633\u062a\u0643\u0634\u0641 \u0627\u0644\u0628\u064a\u0627\u0646\u0627\u062a \u0639\u0646 \u0637\u0631\u064a\u0642 \u062a\u062d\u0645\u064a\u0644 \u0648\u0639\u0631\u0636 \u062e\u0631\u064a\u0637\u0629 Range-Doppler. \u0647\u0630\u0627 \u064a\u0633\u0627\u0639\u062f\u0646\u0627 \u0639\u0644\u0649 \u0641\u0647\u0645 \u0637\u0628\u064a\u0639\u0629 \u0627\u0644\u0628\u064a\u0627\u0646\u0627\u062a."
   ]
  },
  {
   "cell_type": "code",
   "execution_count": null,
   "metadata": {},
   "outputs": [],
   "source": [
    "import numpy as np\n",
    "import matplotlib.pyplot as plt\n",
    "import os\n",
    "\n",
    "# Path to a sample radar data file\n",
    "file_path = 'RadDet_data/RadDet-1T-128/train/seq_000/r_d.npy'\n",
    "\n",
    "if os.path.exists(file_path):\n",
    "    # Load the radar data\n",
    "    rd_data = np.load(file_path)\n",
    "\n",
    "    # Display the radar image\n",
    "    plt.figure(figsize=(8, 6))\n",
    "    plt.imshow(rd_data, cmap='hot', interpolation='nearest')\n",
    "    plt.title(\"Range-Doppler Map\")\n",
    "    plt.colorbar(label=\"Intensity\")\n",
    "    plt.xlabel(\"Doppler\")\n",
    "    plt.ylabel(\"Range\")\n",
    "    plt.show()\n",
    "else:\n",
    "    print(f\"File not found at {file_path}. Please check the download and unzip steps.\")"
   ]
  },
  {
   "cell_type": "markdown",
   "metadata": {},
   "source": [
    "### \u0627\u0644\u062e\u0637\u0648\u0629 \u0627\u0644\u0633\u0627\u062f\u0633\u0629: \u062a\u0639\u062f\u064a\u0644 \u0627\u0644\u0625\u0639\u062f\u0627\u062f\u0627\u062a \u0644\u0644\u062a\u062f\u0631\u064a\u0628\n",
    "\n",
    "\u0633\u0627\u062f\u0633\u0627\u064b\u060c \u0646\u0642\u0648\u0645 \u0628\u062a\u0639\u062f\u064a\u0644 \u0645\u0644\u0641 \u0627\u0644\u0625\u0639\u062f\u0627\u062f\u0627\u062a `RadDet_config.json` \u0644\u062a\u0642\u0644\u064a\u0644 \u0648\u0642\u062a \u0627\u0644\u062a\u062f\u0631\u064a\u0628 \u0644\u0623\u063a\u0631\u0627\u0636 \u0627\u0644\u0639\u0631\u0636 \u0627\u0644\u062a\u0648\u0636\u064a\u062d\u064a. \u0633\u0646\u0642\u0648\u0645 \u0628\u062a\u0642\u0644\u064a\u0644 \u0639\u062f\u062f \u0627\u0644\u0640 `epochs` \u0625\u0644\u0649 5."
   ]
  },
  {
   "cell_type": "code",
   "execution_count": null,
   "metadata": {},
   "outputs": [],
   "source": [
    "import json\n",
    "\n",
    "config_path = 'RadDet_config.json'\n",
    "\n",
    "# Read the config file\n",
    "with open(config_path, 'r') as f:\n",
    "    config = json.load(f)\n",
    "\n",
    "# Modify the number of epochs for a quicker training demonstration\n",
    "config['epochs'] = 5\n",
    "\n",
    "# Write the modified config back\n",
    "with open(config_path, 'w') as f:\n",
    "    json.dump(config, f, indent=4)\n",
    "\n",
    "print(\"Modified config file (epochs=5):\")\n",
    "!cat {config_path}"
   ]
  },
  {
   "cell_type": "markdown",
   "metadata": {},
   "source": [
    "### \u0627\u0644\u062e\u0637\u0648\u0629 \u0627\u0644\u0633\u0627\u0628\u0639\u0629: \u062a\u062f\u0631\u064a\u0628 \u0627\u0644\u0646\u0645\u0648\u0630\u062c\n",
    "\n",
    "\u0633\u0627\u0628\u0639\u0627\u064b\u060c \u0646\u0628\u062f\u0623 \u0639\u0645\u0644\u064a\u0629 \u062a\u062f\u0631\u064a\u0628 \u0627\u0644\u0646\u0645\u0648\u0630\u062c. \u0642\u062f \u062a\u0633\u062a\u063a\u0631\u0642 \u0647\u0630\u0647 \u0627\u0644\u0639\u0645\u0644\u064a\u0629 \u0628\u0639\u0636 \u0627\u0644\u0648\u0642\u062a \u062d\u062a\u0649 \u0645\u0639 \u062a\u0642\u0644\u064a\u0644 \u0639\u062f\u062f \u0627\u0644\u0640 epochs."
   ]
  },
  {
   "cell_type": "code",
   "execution_count": null,
   "metadata": {},
   "outputs": [],
   "source": [
    "!python train.py --config_path RadDet_config.json"
   ]
  },
  {
   "cell_type": "markdown",
   "metadata": {},
   "source": [
    "### \u0627\u0644\u062e\u0637\u0648\u0629 \u0627\u0644\u062b\u0627\u0645\u0646\u0629: \u062a\u0642\u064a\u064a\u0645 \u0627\u0644\u0646\u0645\u0648\u0630\u062c\n",
    "\n",
    "\u062b\u0627\u0645\u0646\u0627\u064b \u0648\u0623\u062e\u064a\u0631\u0627\u064b\u060c \u0628\u0639\u062f \u0627\u0643\u062a\u0645\u0627\u0644 \u0627\u0644\u062a\u062f\u0631\u064a\u0628\u060c \u0646\u0642\u0648\u0645 \u0628\u062a\u0642\u064a\u064a\u0645 \u0623\u062f\u0627\u0621 \u0627\u0644\u0646\u0645\u0648\u0630\u062c \u0639\u0644\u0649 \u0645\u062c\u0645\u0648\u0639\u0629 \u0628\u064a\u0627\u0646\u0627\u062a \u0627\u0644\u0627\u062e\u062a\u0628\u0627\u0631."
   ]
  },
  {
   "cell_type": "code",
   "execution_count": null,
   "metadata": {},
   "outputs": [],
   "source": [
    "!python eval.py --config_path RadDet_config.json"
   ]
  }
 ],
 "metadata": {
  "colab": {
   "name": "RADDet_Implementation_in_Colab.ipynb",
   "provenance": []
  },
  "kernelspec": {
   "display_name": "Python 3",
   "name": "python3"
  },
  "language_info": {
   "name": "python"
  }
 },
 "nbformat": 4,
 "nbformat_minor": 0
}