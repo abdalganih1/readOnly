{
  "cells": [
    {
      "cell_type": "markdown",
      "metadata": {
        "id": "view-in-github",
        "colab_type": "text"
      },
      "source": [
        "<a href=\"https://colab.research.google.com/github/abdalganih1/readOnly/blob/main/RADDet_Implementation_in_Colab.ipynb\" target=\"_parent\"><img src=\"https://colab.research.google.com/assets/colab-badge.svg\" alt=\"Open In Colab\"/></a>"
      ]
    },
    {
      "cell_type": "markdown",
      "metadata": {
        "id": "XzoAxuedcvAO"
      },
      "source": [
        "# تنفيذ مشروع RADDet على Google Colab\n",
        "\n",
        "هذا الدفتر يشرح خطوات تنفيذ مشروع RADDet بالكامل على بيئة Google Colab، بدءًا من تحميل المشروع والبيانات، وصولاً إلى تدريب النموذج وتقييمه."
      ]
    },
    {
      "cell_type": "markdown",
      "metadata": {
        "id": "I17pFNWJcvAS"
      },
      "source": [
        "### الخطوة الأولى: نسخ مستودع المشروع\n",
        "\n",
        "أولاً، نقوم بنسخ مستودع المشروع من GitHub والانتقال إلى مجلد المشروع."
      ]
    },
    {
      "cell_type": "code",
      "execution_count": 7,
      "metadata": {
        "colab": {
          "base_uri": "https://localhost:8080/"
        },
        "id": "05YAgBpXcvAT",
        "outputId": "c83dcf91-9e20-4821-c576-699c6a374af3"
      },
      "outputs": [
        {
          "output_type": "stream",
          "name": "stdout",
          "text": [
            "Cloning into 'RADDet'...\n",
            "remote: Enumerating objects: 315, done.\u001b[K\n",
            "remote: Counting objects: 100% (83/83), done.\u001b[K\n",
            "remote: Compressing objects: 100% (18/18), done.\u001b[K\n",
            "remote: Total 315 (delta 69), reused 70 (delta 65), pack-reused 232 (from 1)\u001b[K\n",
            "Receiving objects: 100% (315/315), 85.81 MiB | 25.27 MiB/s, done.\n",
            "Resolving deltas: 100% (158/158), done.\n",
            "/content/RADDet/RADDet\n"
          ]
        }
      ],
      "source": [
        "# Cell 1: Clone the repository and move into its directory\n",
        "!git clone https://github.com/ZhangAoCanada/RADDet.git\n",
        "%cd RADDet"
      ]
    },
    {
      "cell_type": "markdown",
      "metadata": {
        "id": "TTqECXxfcvAU"
      },
      "source": [
        "### الخطوة الثانية: تعديل وتثبيت المكتبات المطلوبة (مصحح)\n",
        "\n",
        "ملف `requirements.txt` الأصلي قديم. سنقوم بتعديله تلقائياً ليتوافق مع بيئة Colab الحديثة ثم نقوم بتثبيت المكتبات."
      ]
    },
    {
      "cell_type": "code",
      "execution_count": 8,
      "metadata": {
        "colab": {
          "base_uri": "https://localhost:8080/"
        },
        "id": "n9c7Ho4kcvAU",
        "outputId": "bea5a036-d1ae-4b8d-9626-702e351fdfcb"
      },
      "outputs": [
        {
          "output_type": "stream",
          "name": "stdout",
          "text": [
            "⏳ Modifying requirements.txt for full compatibility...\n",
            "✅ requirements.txt has been updated.\n",
            "\n",
            "New content of requirements.txt:\n",
            "tensorflow\n",
            "opencv-python-headless\n",
            "numpy\n",
            "matplotlib\n",
            "scikit-learn\n",
            "tqdm\n",
            "\n",
            "⏳ Installing required libraries and gdown for Google Drive downloads...\n",
            "\n",
            "✅ All libraries installed successfully!\n"
          ]
        }
      ],
      "source": [
        "# Cell 2: Fix requirements and install all dependencies\n",
        "print(\"⏳ Modifying requirements.txt for full compatibility...\")\n",
        "\n",
        "# Remove all version constraints to let pip resolve dependencies\n",
        "!sed -i -E 's/==[0-9.]+//' requirements.txt\n",
        "# The original repo has a requirement for opencv-python, let's make sure it's headless\n",
        "!sed -i 's/opencv-python/opencv-python-headless/' requirements.txt\n",
        "\n",
        "\n",
        "print(\"✅ requirements.txt has been updated.\")\n",
        "print(\"\\nNew content of requirements.txt:\")\n",
        "!cat requirements.txt\n",
        "\n",
        "print(\"\\n⏳ Installing required libraries and gdown for Google Drive downloads...\")\n",
        "# Install gdown first\n",
        "!pip install -q gdown\n",
        "# Then install from the modified requirements file\n",
        "!pip install -r requirements.txt -q\n",
        "print(\"\\n✅ All libraries installed successfully!\")"
      ]
    },
    {
      "cell_type": "markdown",
      "metadata": {
        "id": "jrr4_u9AcvAV"
      },
      "source": [
        "### الخطوة الثالثة: تحميل مجموعة البيانات (مصحح)\n",
        "\n",
        "سنقوم بتحميل البيانات من الرابط المحدث. هذا الكود سيقوم بحذف أي ملف تحميل تالف أو غير مكتمل لضمان تحميل سليم."
      ]
    },
    {
      "cell_type": "code",
      "execution_count": 9,
      "metadata": {
        "colab": {
          "base_uri": "https://localhost:8080/"
        },
        "id": "FjbSvMwBcvAV",
        "outputId": "35b79f53-fdb1-4004-91c5-53d28e53c420"
      },
      "outputs": [
        {
          "output_type": "stream",
          "name": "stdout",
          "text": [
            "Downloading the dataset from Google Drive... (This may take a few minutes, size is ~556MB)\n",
            "/usr/local/lib/python3.11/dist-packages/gdown/__main__.py:140: FutureWarning: Option `--id` was deprecated in version 4.3.1 and will be removed in 5.0. You don't need to pass it anymore to use a file ID.\n",
            "  warnings.warn(\n",
            "Failed to retrieve file url:\n",
            "\n",
            "\tCannot retrieve the public link of the file. You may need to change\n",
            "\tthe permission to 'Anyone with the link', or have had many accesses.\n",
            "\tCheck FAQ in https://github.com/wkentaro/gdown?tab=readme-ov-file#faq.\n",
            "\n",
            "You may still be able to access the file from the browser:\n",
            "\n",
            "\thttps://drive.google.com/uc?id=1R4BWGO-aC8c-AY_16A8W2kYp-mclTimS\n",
            "\n",
            "but Gdown can't. Please check connections and permissions.\n",
            "❌ Download failed or file is corrupted. Please try running the cell again.\n"
          ]
        }
      ],
      "source": [
        "# Cell 3: Download the dataset from the alternative Google Drive link\n",
        "import os\n",
        "\n",
        "zip_file_path = '../RadDet_dataset.zip' # Using a new name to avoid conflicts\n",
        "# This is the direct download ID for the dataset from the project's official GitHub page\n",
        "google_drive_id = '1R4BWGO-aC8c-AY_16A8W2kYp-mclTimS'\n",
        "\n",
        "if not os.path.exists(zip_file_path):\n",
        "    print(f\"Downloading the dataset from Google Drive... (This may take a few minutes, size is ~556MB)\")\n",
        "    # Use gdown to download from Google Drive\n",
        "    !gdown --id {google_drive_id} -O {zip_file_path}\n",
        "else:\n",
        "    print(\"Dataset already downloaded.\")\n",
        "\n",
        "# Verify download was successful by checking file size\n",
        "if os.path.exists(zip_file_path) and os.path.getsize(zip_file_path) > 500 * 1024 * 1024: # Check if > 500MB\n",
        "    print(\"✅ Dataset downloaded successfully.\")\n",
        "else:\n",
        "    print(\"❌ Download failed or file is corrupted. Please try running the cell again.\")"
      ]
    },
    {
      "cell_type": "markdown",
      "metadata": {
        "id": "UHFedBXncvAW"
      },
      "source": [
        "### الخطوة الرابعة: فك ضغط البيانات\n",
        "\n",
        "نقوم بفك ضغط ملف البيانات. سيتأكد الكود من وجود الملف قبل محاولة فك ضغطه."
      ]
    },
    {
      "cell_type": "code",
      "execution_count": 10,
      "metadata": {
        "colab": {
          "base_uri": "https://localhost:8080/"
        },
        "id": "30qqfTGxcvAW",
        "outputId": "eed036df-2475-4099-b8c6-3b8167e7784f"
      },
      "outputs": [
        {
          "output_type": "stream",
          "name": "stdout",
          "text": [
            "❌ Zip file not found. Please re-run the download step.\n"
          ]
        }
      ],
      "source": [
        "# Cell 4: Unzip the data\n",
        "import os\n",
        "\n",
        "data_dir = 'RadDet_data/RadDet-1T-128'\n",
        "zip_file_path = '../RadDet_dataset.zip' # Use the new file name\n",
        "\n",
        "if not os.path.exists(data_dir) and os.path.exists(zip_file_path):\n",
        "    print(\"Unzipping the data...\")\n",
        "    os.makedirs('RadDet_data', exist_ok=True)\n",
        "    !unzip -q {zip_file_path} -d RadDet_data\n",
        "    print(\"✅ Data unzipped successfully.\")\n",
        "elif os.path.exists(data_dir):\n",
        "    print(\"Data directory already exists. Skipping unzip.\")\n",
        "else:\n",
        "    print(\"❌ Zip file not found. Please re-run the download step.\")"
      ]
    },
    {
      "cell_type": "markdown",
      "metadata": {
        "id": "dthfx0tFcvAW"
      },
      "source": [
        "### الخطوة الخامسة: استكشاف البيانات\n",
        "\n",
        "نعرض عينة من البيانات (خريطة Range-Doppler) للتأكد من أن كل شيء تم تحميله وفك ضغطه بشكل صحيح."
      ]
    },
    {
      "cell_type": "code",
      "execution_count": 5,
      "metadata": {
        "colab": {
          "base_uri": "https://localhost:8080/"
        },
        "id": "FbtvyiDbcvAX",
        "outputId": "2ddc01c9-b0eb-4efd-e433-bc9033a96a06"
      },
      "outputs": [
        {
          "output_type": "stream",
          "name": "stdout",
          "text": [
            "❌ File not found at RadDet_data/RadDet-1T-128/train/seq_000/r_d.npy. Please check the download and unzip steps.\n"
          ]
        }
      ],
      "source": [
        "import numpy as np\n",
        "import matplotlib.pyplot as plt\n",
        "import os\n",
        "\n",
        "# Path to a sample radar data file\n",
        "file_path = 'RadDet_data/RadDet-1T-128/train/seq_000/r_d.npy'\n",
        "\n",
        "if os.path.exists(file_path):\n",
        "    print(\"Displaying a sample Range-Doppler Map...\")\n",
        "    rd_data = np.load(file_path)\n",
        "    plt.figure(figsize=(8, 6))\n",
        "    plt.imshow(rd_data, cmap='hot', interpolation='nearest')\n",
        "    plt.title(\"Range-Doppler Map\")\n",
        "    plt.colorbar(label=\"Intensity\")\n",
        "    plt.xlabel(\"Doppler\")\n",
        "    plt.ylabel(\"Range\")\n",
        "    plt.show()\n",
        "else:\n",
        "    print(f\"❌ File not found at {file_path}. Please check the download and unzip steps.\")"
      ]
    },
    {
      "cell_type": "markdown",
      "metadata": {
        "id": "Hq4TwvLdcvAX"
      },
      "source": [
        "### الخطوة السادسة: تعديل الإعدادات للتدريب (مصحح)\n",
        "\n",
        "نقوم بتعديل ملف الإعدادات `RadDet_config.json` لتقليل وقت التدريب (epochs = 5) لأغراض العرض التوضيحي، ونتأكد من حفظ التغييرات."
      ]
    },
    {
      "cell_type": "code",
      "execution_count": 6,
      "metadata": {
        "colab": {
          "base_uri": "https://localhost:8080/",
          "height": 228
        },
        "id": "Rtxad_PGcvAX",
        "outputId": "59dca9a6-6274-4795-8ece-20482b3988ac"
      },
      "outputs": [
        {
          "output_type": "stream",
          "name": "stdout",
          "text": [
            "Reading and updating config file: RadDet_config.json\n"
          ]
        },
        {
          "output_type": "error",
          "ename": "FileNotFoundError",
          "evalue": "[Errno 2] No such file or directory: 'RadDet_config.json'",
          "traceback": [
            "\u001b[0;31m---------------------------------------------------------------------------\u001b[0m",
            "\u001b[0;31mFileNotFoundError\u001b[0m                         Traceback (most recent call last)",
            "\u001b[0;32m/tmp/ipython-input-6-3397087685.py\u001b[0m in \u001b[0;36m<cell line: 0>\u001b[0;34m()\u001b[0m\n\u001b[1;32m      4\u001b[0m \u001b[0;34m\u001b[0m\u001b[0m\n\u001b[1;32m      5\u001b[0m \u001b[0mprint\u001b[0m\u001b[0;34m(\u001b[0m\u001b[0;34mf\"Reading and updating config file: {config_path}\"\u001b[0m\u001b[0;34m)\u001b[0m\u001b[0;34m\u001b[0m\u001b[0;34m\u001b[0m\u001b[0m\n\u001b[0;32m----> 6\u001b[0;31m \u001b[0;32mwith\u001b[0m \u001b[0mopen\u001b[0m\u001b[0;34m(\u001b[0m\u001b[0mconfig_path\u001b[0m\u001b[0;34m,\u001b[0m \u001b[0;34m'r'\u001b[0m\u001b[0;34m)\u001b[0m \u001b[0;32mas\u001b[0m \u001b[0mf\u001b[0m\u001b[0;34m:\u001b[0m\u001b[0;34m\u001b[0m\u001b[0;34m\u001b[0m\u001b[0m\n\u001b[0m\u001b[1;32m      7\u001b[0m     \u001b[0mconfig\u001b[0m \u001b[0;34m=\u001b[0m \u001b[0mjson\u001b[0m\u001b[0;34m.\u001b[0m\u001b[0mload\u001b[0m\u001b[0;34m(\u001b[0m\u001b[0mf\u001b[0m\u001b[0;34m)\u001b[0m\u001b[0;34m\u001b[0m\u001b[0;34m\u001b[0m\u001b[0m\n\u001b[1;32m      8\u001b[0m \u001b[0;34m\u001b[0m\u001b[0m\n",
            "\u001b[0;31mFileNotFoundError\u001b[0m: [Errno 2] No such file or directory: 'RadDet_config.json'"
          ]
        }
      ],
      "source": [
        "import json\n",
        "\n",
        "config_path = 'RadDet_config.json'\n",
        "\n",
        "print(f\"Reading and updating config file: {config_path}\")\n",
        "with open(config_path, 'r') as f:\n",
        "    config = json.load(f)\n",
        "\n",
        "original_epochs = config['epochs']\n",
        "# Modify the number of epochs for a quicker training demonstration\n",
        "config['epochs'] = 5\n",
        "print(f\"Changing 'epochs' from {original_epochs} to {config['epochs']} for a quick demo.\")\n",
        "\n",
        "# IMPORTANT: Write the changes back to the file\n",
        "with open(config_path, 'w') as f:\n",
        "    json.dump(config, f, indent=4)\n",
        "print(\"✅ Configuration saved successfully.\")"
      ]
    },
    {
      "cell_type": "markdown",
      "metadata": {
        "id": "qMkq4M4dcvAY"
      },
      "source": [
        "### الخطوة السابعة: تدريب النموذج\n",
        "\n",
        "الآن كل شيء جاهز. نبدأ عملية تدريب النموذج. ستعمل هذه الخلية الآن لـ 5 epochs فقط."
      ]
    },
    {
      "cell_type": "code",
      "execution_count": null,
      "metadata": {
        "id": "0NpeVo6NcvAY"
      },
      "outputs": [],
      "source": [
        "!python train.py --config_path RadDet_config.json"
      ]
    },
    {
      "cell_type": "markdown",
      "metadata": {
        "id": "wIE1ORLXcvAY"
      },
      "source": [
        "### الخطوة الثامنة: تقييم النموذج\n",
        "\n",
        "بعد اكتمال التدريب، نقوم بتقييم أداء النموذج على مجموعة بيانات الاختبار."
      ]
    },
    {
      "cell_type": "code",
      "execution_count": null,
      "metadata": {
        "id": "ZN-uT94JcvAY"
      },
      "outputs": [],
      "source": [
        "!python eval.py --config_path RadDet_config.json"
      ]
    }
  ],
  "metadata": {
    "colab": {
      "name": "RADDet_Final_Working_Version.ipynb",
      "provenance": [],
      "include_colab_link": true
    },
    "kernelspec": {
      "display_name": "Python 3",
      "name": "python3"
    },
    "language_info": {
      "name": "python"
    }
  },
  "nbformat": 4,
  "nbformat_minor": 0
}